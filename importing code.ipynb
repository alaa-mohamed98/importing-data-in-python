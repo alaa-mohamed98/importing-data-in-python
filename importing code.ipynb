{
 "cells": [
  {
   "cell_type": "markdown",
   "id": "d441a41e-0eac-4ed1-a7cf-3d3d2e1745a5",
   "metadata": {},
   "source": [
    "Reading Txt file "
   ]
  },
  {
   "cell_type": "code",
   "execution_count": null,
   "id": "d7ec6e6e-236c-4f4b-869c-65827742c1a2",
   "metadata": {},
   "outputs": [],
   "source": [
    "# Open a file: file\n",
    "file = open('moby_dick.txt', 'r')\n",
    "\n",
    "# Print it\n",
    "print(file.read())\n",
    "\n",
    "# Check whether file is closed\n",
    "print(file.closed)\n",
    "\n",
    "# Close file\n",
    "file.close()\n",
    "\n",
    "# Check whether file is closed\n",
    "\n",
    "print(file.closed)\n"
   ]
  },
  {
   "cell_type": "markdown",
   "id": "2ddfcdaf-f142-4923-8b2a-425312ce1269",
   "metadata": {},
   "source": [
    "reading Txt file with Numpy "
   ]
  },
  {
   "cell_type": "code",
   "execution_count": null,
   "id": "bba72e7f-7dae-4565-831c-0fb7d2ae054f",
   "metadata": {},
   "outputs": [],
   "source": [
    "# Import numpy\n",
    "import numpy as np\n",
    "\n",
    "# Assign the filename: file\n",
    "file = 'digits_header.txt'\n",
    "\n",
    "# Load the data: data\n",
    "data = np.loadtxt(file, delimiter=\"\\t\", skiprows=1, usecols=[0,2])\n",
    "\n",
    "# Print data\n",
    "print(data)"
   ]
  },
  {
   "cell_type": "code",
   "execution_count": null,
   "id": "b301de13-b621-4e30-b226-5ab1ac658a94",
   "metadata": {},
   "outputs": [],
   "source": []
  },
  {
   "cell_type": "code",
   "execution_count": null,
   "id": "d09d7f06-99df-4be4-a5b2-cab46a8726c5",
   "metadata": {},
   "outputs": [],
   "source": []
  }
 ],
 "metadata": {
  "kernelspec": {
   "display_name": "Python 3",
   "language": "python",
   "name": "python3"
  },
  "language_info": {
   "codemirror_mode": {
    "name": "ipython",
    "version": 3
   },
   "file_extension": ".py",
   "mimetype": "text/x-python",
   "name": "python",
   "nbconvert_exporter": "python",
   "pygments_lexer": "ipython3",
   "version": "3.7.8"
  }
 },
 "nbformat": 4,
 "nbformat_minor": 5
}
